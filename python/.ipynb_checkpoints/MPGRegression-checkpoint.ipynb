{
 "cells": [
  {
   "cell_type": "code",
   "execution_count": 1,
   "metadata": {},
   "outputs": [],
   "source": [
    "#Importing the Libaries \n",
    "import numpy as np\n",
    "import pandas as pd\n",
    "import matplotlib.pyplot as plt\n",
    "%matplotlib inline"
   ]
  },
  {
   "cell_type": "code",
   "execution_count": 2,
   "metadata": {},
   "outputs": [],
   "source": [
    "url='https://archive.ics.uci.edu/ml/machine-learning-databases/auto-mpg/auto-mpg.data'"
   ]
  },
  {
   "cell_type": "code",
   "execution_count": 3,
   "metadata": {},
   "outputs": [],
   "source": [
    "columnNames=['mpg','cylinders','displacement','horsepower','weight','acceleration','modelYear','origin','carName']"
   ]
  },
  {
   "cell_type": "code",
   "execution_count": 4,
   "metadata": {},
   "outputs": [],
   "source": [
    "dataset=pd.read_csv(url,\n",
    "delim_whitespace=True, \n",
    "                 header = None, \n",
    "                 names = columnNames,na_values='?')"
   ]
  },
  {
   "cell_type": "code",
   "execution_count": 5,
   "metadata": {},
   "outputs": [],
   "source": [
    "#Since CarName is string and Unique for each instance we cannot use it\n",
    "dataset=dataset.drop('carName',axis=1)"
   ]
  },
  {
   "cell_type": "code",
   "execution_count": 6,
   "metadata": {},
   "outputs": [],
   "source": [
    "#Replacing '?' mark with Nan\n",
    "dataset=dataset.replace('?', np.NaN)\n",
    "dataset['origin'] = dataset['origin'].replace({1: 'america', 2: 'europe', 3: 'asia'})\n",
    "dataset = pd.get_dummies(dataset, columns=['origin'])\n",
    "dataset=dataset.dropna()"
   ]
  },
  {
   "cell_type": "code",
   "execution_count": 7,
   "metadata": {},
   "outputs": [],
   "source": [
    "#Preparing feature and lables\n",
    "X=dataset.iloc[:,1:].values\n",
    "y=dataset.iloc[:,0:1].values"
   ]
  },
  {
   "cell_type": "code",
   "execution_count": 8,
   "metadata": {},
   "outputs": [],
   "source": [
    "from sklearn.model_selection import train_test_split"
   ]
  },
  {
   "cell_type": "code",
   "execution_count": 9,
   "metadata": {},
   "outputs": [],
   "source": [
    "X_train,X_test,y_train,y_test=train_test_split(X,y,test_size=0.2,random_state=0)"
   ]
  },
  {
   "cell_type": "code",
   "execution_count": 10,
   "metadata": {},
   "outputs": [],
   "source": [
    "from sklearn.linear_model import LinearRegression"
   ]
  },
  {
   "cell_type": "code",
   "execution_count": 11,
   "metadata": {},
   "outputs": [],
   "source": [
    "linear_regressor=LinearRegression()"
   ]
  },
  {
   "cell_type": "code",
   "execution_count": 12,
   "metadata": {},
   "outputs": [
    {
     "data": {
      "text/plain": [
       "LinearRegression(copy_X=True, fit_intercept=True, n_jobs=1, normalize=False)"
      ]
     },
     "execution_count": 12,
     "metadata": {},
     "output_type": "execute_result"
    }
   ],
   "source": [
    "linear_regressor.fit(X_train,y_train)"
   ]
  },
  {
   "cell_type": "code",
   "execution_count": 13,
   "metadata": {},
   "outputs": [
    {
     "data": {
      "text/plain": [
       "array([[25.51469604],\n",
       "       [25.27886826],\n",
       "       [10.53305685],\n",
       "       [32.15477571],\n",
       "       [32.95814026],\n",
       "       [23.43992958],\n",
       "       [34.21485266],\n",
       "       [26.88615822],\n",
       "       [20.23865435],\n",
       "       [26.51556003],\n",
       "       [28.55590056],\n",
       "       [13.70730486],\n",
       "       [24.86251701],\n",
       "       [ 8.78102974],\n",
       "       [16.82256734],\n",
       "       [32.92133689],\n",
       "       [26.61239728],\n",
       "       [12.68417729],\n",
       "       [26.27106596],\n",
       "       [26.86332078],\n",
       "       [20.99953477],\n",
       "       [17.83198525],\n",
       "       [23.53930949],\n",
       "       [26.91428864],\n",
       "       [32.56194353],\n",
       "       [11.23834236],\n",
       "       [28.62475595],\n",
       "       [25.45513011],\n",
       "       [22.92977219],\n",
       "       [14.89347866],\n",
       "       [22.18050151],\n",
       "       [30.74416878],\n",
       "       [24.77460688],\n",
       "       [29.027514  ],\n",
       "       [21.77982546],\n",
       "       [29.18586549],\n",
       "       [28.24585686],\n",
       "       [12.25338166],\n",
       "       [14.8345176 ],\n",
       "       [10.63112153],\n",
       "       [14.01825216],\n",
       "       [34.3497955 ],\n",
       "       [30.51149418],\n",
       "       [13.54998863],\n",
       "       [31.61464295],\n",
       "       [15.50609429],\n",
       "       [29.91056317],\n",
       "       [10.62060468],\n",
       "       [17.48901497],\n",
       "       [22.13984222],\n",
       "       [27.55159048],\n",
       "       [15.38444954],\n",
       "       [ 8.3289872 ],\n",
       "       [22.92948054],\n",
       "       [32.35007905],\n",
       "       [27.08711398],\n",
       "       [26.11439538],\n",
       "       [20.75648743],\n",
       "       [31.54863388],\n",
       "       [24.08580553],\n",
       "       [18.92135439],\n",
       "       [28.15084321],\n",
       "       [31.99809453],\n",
       "       [10.58425642],\n",
       "       [26.57587978],\n",
       "       [16.6984705 ],\n",
       "       [10.62006916],\n",
       "       [28.89637066],\n",
       "       [21.67370442],\n",
       "       [33.12436029],\n",
       "       [33.58776375],\n",
       "       [28.89400864],\n",
       "       [20.35941525],\n",
       "       [16.10484211],\n",
       "       [20.79230134],\n",
       "       [12.86573948],\n",
       "       [25.26231021],\n",
       "       [21.53281649],\n",
       "       [31.42897378]])"
      ]
     },
     "execution_count": 13,
     "metadata": {},
     "output_type": "execute_result"
    }
   ],
   "source": [
    "linear_regressor.predict(X_test)"
   ]
  },
  {
   "cell_type": "code",
   "execution_count": 14,
   "metadata": {},
   "outputs": [
    {
     "data": {
      "text/plain": [
       "array([[28. ],\n",
       "       [22.3],\n",
       "       [12. ],\n",
       "       [38. ],\n",
       "       [33.8],\n",
       "       [19.4],\n",
       "       [38.1],\n",
       "       [30. ],\n",
       "       [20. ],\n",
       "       [20. ],\n",
       "       [27. ],\n",
       "       [16.5],\n",
       "       [24.5],\n",
       "       [11. ],\n",
       "       [16.9],\n",
       "       [33.7],\n",
       "       [21.6],\n",
       "       [14. ],\n",
       "       [26. ],\n",
       "       [28.4],\n",
       "       [13. ],\n",
       "       [16. ],\n",
       "       [20. ],\n",
       "       [25. ],\n",
       "       [41.5],\n",
       "       [14. ],\n",
       "       [25.8],\n",
       "       [25.1],\n",
       "       [20. ],\n",
       "       [17. ],\n",
       "       [20. ],\n",
       "       [31.6],\n",
       "       [22. ],\n",
       "       [26. ],\n",
       "       [21. ],\n",
       "       [29.8],\n",
       "       [31. ],\n",
       "       [13. ],\n",
       "       [16. ],\n",
       "       [14. ],\n",
       "       [15. ],\n",
       "       [44.6],\n",
       "       [31.3],\n",
       "       [16. ],\n",
       "       [29. ],\n",
       "       [16. ],\n",
       "       [29. ],\n",
       "       [13. ],\n",
       "       [17.5],\n",
       "       [18. ],\n",
       "       [26. ],\n",
       "       [15. ],\n",
       "       [10. ],\n",
       "       [22. ],\n",
       "       [34.3],\n",
       "       [30.7],\n",
       "       [20.2],\n",
       "       [22. ],\n",
       "       [33. ],\n",
       "       [21. ],\n",
       "       [22. ],\n",
       "       [24. ],\n",
       "       [31.5],\n",
       "       [15. ],\n",
       "       [26. ],\n",
       "       [16. ],\n",
       "       [14. ],\n",
       "       [27. ],\n",
       "       [25. ],\n",
       "       [40.8],\n",
       "       [36.1],\n",
       "       [30. ],\n",
       "       [17.6],\n",
       "       [15.5],\n",
       "       [23. ],\n",
       "       [14. ],\n",
       "       [26. ],\n",
       "       [19.2],\n",
       "       [31.5]])"
      ]
     },
     "execution_count": 14,
     "metadata": {},
     "output_type": "execute_result"
    }
   ],
   "source": [
    "y_test"
   ]
  },
  {
   "cell_type": "code",
   "execution_count": 18,
   "metadata": {},
   "outputs": [
    {
     "data": {
      "text/plain": [
       "0.8194239716903474"
      ]
     },
     "execution_count": 18,
     "metadata": {},
     "output_type": "execute_result"
    }
   ],
   "source": [
    "linear_regressor.score(X_train,y_train)"
   ]
  },
  {
   "cell_type": "code",
   "execution_count": 19,
   "metadata": {},
   "outputs": [],
   "source": [
    "#Using Backward Elimination Method to choose the required features only"
   ]
  },
  {
   "cell_type": "code",
   "execution_count": 20,
   "metadata": {},
   "outputs": [],
   "source": [
    "import statsmodels.formula.api as sfm"
   ]
  },
  {
   "cell_type": "code",
   "execution_count": 21,
   "metadata": {},
   "outputs": [],
   "source": [
    "X=np.append(arr=np.ones((392,1)).astype(int),values=X,axis=1)"
   ]
  },
  {
   "cell_type": "code",
   "execution_count": 22,
   "metadata": {},
   "outputs": [],
   "source": [
    "X=X[:,:9]"
   ]
  },
  {
   "cell_type": "code",
   "execution_count": 23,
   "metadata": {},
   "outputs": [],
   "source": [
    "X_opt=X[:,[0,1,2,3,4,5,6,7,8]]"
   ]
  },
  {
   "cell_type": "code",
   "execution_count": 24,
   "metadata": {},
   "outputs": [],
   "source": [
    "regressor_OLS=sfm.OLS(endog=y,exog=X_opt).fit()"
   ]
  },
  {
   "cell_type": "code",
   "execution_count": 25,
   "metadata": {},
   "outputs": [
    {
     "data": {
      "text/html": [
       "<table class=\"simpletable\">\n",
       "<caption>OLS Regression Results</caption>\n",
       "<tr>\n",
       "  <th>Dep. Variable:</th>            <td>y</td>        <th>  R-squared:         </th> <td>   0.824</td> \n",
       "</tr>\n",
       "<tr>\n",
       "  <th>Model:</th>                   <td>OLS</td>       <th>  Adj. R-squared:    </th> <td>   0.821</td> \n",
       "</tr>\n",
       "<tr>\n",
       "  <th>Method:</th>             <td>Least Squares</td>  <th>  F-statistic:       </th> <td>   224.5</td> \n",
       "</tr>\n",
       "<tr>\n",
       "  <th>Date:</th>             <td>Wed, 25 Jul 2018</td> <th>  Prob (F-statistic):</th> <td>1.79e-139</td>\n",
       "</tr>\n",
       "<tr>\n",
       "  <th>Time:</th>                 <td>05:07:55</td>     <th>  Log-Likelihood:    </th> <td> -1020.5</td> \n",
       "</tr>\n",
       "<tr>\n",
       "  <th>No. Observations:</th>      <td>   392</td>      <th>  AIC:               </th> <td>   2059.</td> \n",
       "</tr>\n",
       "<tr>\n",
       "  <th>Df Residuals:</th>          <td>   383</td>      <th>  BIC:               </th> <td>   2095.</td> \n",
       "</tr>\n",
       "<tr>\n",
       "  <th>Df Model:</th>              <td>     8</td>      <th>                     </th>     <td> </td>    \n",
       "</tr>\n",
       "<tr>\n",
       "  <th>Covariance Type:</th>      <td>nonrobust</td>    <th>                     </th>     <td> </td>    \n",
       "</tr>\n",
       "</table>\n",
       "<table class=\"simpletable\">\n",
       "<tr>\n",
       "    <td></td>       <th>coef</th>     <th>std err</th>      <th>t</th>      <th>P>|t|</th>  <th>[0.025</th>    <th>0.975]</th>  \n",
       "</tr>\n",
       "<tr>\n",
       "  <th>const</th> <td>  -15.3246</td> <td>    4.602</td> <td>   -3.330</td> <td> 0.001</td> <td>  -24.374</td> <td>   -6.276</td>\n",
       "</tr>\n",
       "<tr>\n",
       "  <th>x1</th>    <td>   -0.4897</td> <td>    0.321</td> <td>   -1.524</td> <td> 0.128</td> <td>   -1.121</td> <td>    0.142</td>\n",
       "</tr>\n",
       "<tr>\n",
       "  <th>x2</th>    <td>    0.0240</td> <td>    0.008</td> <td>    3.133</td> <td> 0.002</td> <td>    0.009</td> <td>    0.039</td>\n",
       "</tr>\n",
       "<tr>\n",
       "  <th>x3</th>    <td>   -0.0182</td> <td>    0.014</td> <td>   -1.326</td> <td> 0.185</td> <td>   -0.045</td> <td>    0.009</td>\n",
       "</tr>\n",
       "<tr>\n",
       "  <th>x4</th>    <td>   -0.0067</td> <td>    0.001</td> <td>  -10.243</td> <td> 0.000</td> <td>   -0.008</td> <td>   -0.005</td>\n",
       "</tr>\n",
       "<tr>\n",
       "  <th>x5</th>    <td>    0.0791</td> <td>    0.098</td> <td>    0.805</td> <td> 0.421</td> <td>   -0.114</td> <td>    0.272</td>\n",
       "</tr>\n",
       "<tr>\n",
       "  <th>x6</th>    <td>    0.7770</td> <td>    0.052</td> <td>   15.005</td> <td> 0.000</td> <td>    0.675</td> <td>    0.879</td>\n",
       "</tr>\n",
       "<tr>\n",
       "  <th>x7</th>    <td>   -2.6300</td> <td>    0.566</td> <td>   -4.643</td> <td> 0.000</td> <td>   -3.744</td> <td>   -1.516</td>\n",
       "</tr>\n",
       "<tr>\n",
       "  <th>x8</th>    <td>    0.2232</td> <td>    0.566</td> <td>    0.394</td> <td> 0.694</td> <td>   -0.890</td> <td>    1.336</td>\n",
       "</tr>\n",
       "</table>\n",
       "<table class=\"simpletable\">\n",
       "<tr>\n",
       "  <th>Omnibus:</th>       <td>23.395</td> <th>  Durbin-Watson:     </th> <td>   1.291</td>\n",
       "</tr>\n",
       "<tr>\n",
       "  <th>Prob(Omnibus):</th> <td> 0.000</td> <th>  Jarque-Bera (JB):  </th> <td>  34.452</td>\n",
       "</tr>\n",
       "<tr>\n",
       "  <th>Skew:</th>          <td> 0.444</td> <th>  Prob(JB):          </th> <td>3.30e-08</td>\n",
       "</tr>\n",
       "<tr>\n",
       "  <th>Kurtosis:</th>      <td> 4.150</td> <th>  Cond. No.          </th> <td>8.56e+04</td>\n",
       "</tr>\n",
       "</table><br/><br/>Warnings:<br/>[1] Standard Errors assume that the covariance matrix of the errors is correctly specified.<br/>[2] The condition number is large, 8.56e+04. This might indicate that there are<br/>strong multicollinearity or other numerical problems."
      ],
      "text/plain": [
       "<class 'statsmodels.iolib.summary.Summary'>\n",
       "\"\"\"\n",
       "                            OLS Regression Results                            \n",
       "==============================================================================\n",
       "Dep. Variable:                      y   R-squared:                       0.824\n",
       "Model:                            OLS   Adj. R-squared:                  0.821\n",
       "Method:                 Least Squares   F-statistic:                     224.5\n",
       "Date:                Wed, 25 Jul 2018   Prob (F-statistic):          1.79e-139\n",
       "Time:                        05:07:55   Log-Likelihood:                -1020.5\n",
       "No. Observations:                 392   AIC:                             2059.\n",
       "Df Residuals:                     383   BIC:                             2095.\n",
       "Df Model:                           8                                         \n",
       "Covariance Type:            nonrobust                                         \n",
       "==============================================================================\n",
       "                 coef    std err          t      P>|t|      [0.025      0.975]\n",
       "------------------------------------------------------------------------------\n",
       "const        -15.3246      4.602     -3.330      0.001     -24.374      -6.276\n",
       "x1            -0.4897      0.321     -1.524      0.128      -1.121       0.142\n",
       "x2             0.0240      0.008      3.133      0.002       0.009       0.039\n",
       "x3            -0.0182      0.014     -1.326      0.185      -0.045       0.009\n",
       "x4            -0.0067      0.001    -10.243      0.000      -0.008      -0.005\n",
       "x5             0.0791      0.098      0.805      0.421      -0.114       0.272\n",
       "x6             0.7770      0.052     15.005      0.000       0.675       0.879\n",
       "x7            -2.6300      0.566     -4.643      0.000      -3.744      -1.516\n",
       "x8             0.2232      0.566      0.394      0.694      -0.890       1.336\n",
       "==============================================================================\n",
       "Omnibus:                       23.395   Durbin-Watson:                   1.291\n",
       "Prob(Omnibus):                  0.000   Jarque-Bera (JB):               34.452\n",
       "Skew:                           0.444   Prob(JB):                     3.30e-08\n",
       "Kurtosis:                       4.150   Cond. No.                     8.56e+04\n",
       "==============================================================================\n",
       "\n",
       "Warnings:\n",
       "[1] Standard Errors assume that the covariance matrix of the errors is correctly specified.\n",
       "[2] The condition number is large, 8.56e+04. This might indicate that there are\n",
       "strong multicollinearity or other numerical problems.\n",
       "\"\"\""
      ]
     },
     "execution_count": 25,
     "metadata": {},
     "output_type": "execute_result"
    }
   ],
   "source": [
    "regressor_OLS.summary()"
   ]
  },
  {
   "cell_type": "code",
   "execution_count": 26,
   "metadata": {},
   "outputs": [
    {
     "data": {
      "text/html": [
       "<table class=\"simpletable\">\n",
       "<caption>OLS Regression Results</caption>\n",
       "<tr>\n",
       "  <th>Dep. Variable:</th>            <td>y</td>        <th>  R-squared:         </th> <td>   0.721</td> \n",
       "</tr>\n",
       "<tr>\n",
       "  <th>Model:</th>                   <td>OLS</td>       <th>  Adj. R-squared:    </th> <td>   0.716</td> \n",
       "</tr>\n",
       "<tr>\n",
       "  <th>Method:</th>             <td>Least Squares</td>  <th>  F-statistic:       </th> <td>   141.7</td> \n",
       "</tr>\n",
       "<tr>\n",
       "  <th>Date:</th>             <td>Wed, 25 Jul 2018</td> <th>  Prob (F-statistic):</th> <td>2.78e-102</td>\n",
       "</tr>\n",
       "<tr>\n",
       "  <th>Time:</th>                 <td>05:07:56</td>     <th>  Log-Likelihood:    </th> <td> -1111.1</td> \n",
       "</tr>\n",
       "<tr>\n",
       "  <th>No. Observations:</th>      <td>   392</td>      <th>  AIC:               </th> <td>   2238.</td> \n",
       "</tr>\n",
       "<tr>\n",
       "  <th>Df Residuals:</th>          <td>   384</td>      <th>  BIC:               </th> <td>   2270.</td> \n",
       "</tr>\n",
       "<tr>\n",
       "  <th>Df Model:</th>              <td>     7</td>      <th>                     </th>     <td> </td>    \n",
       "</tr>\n",
       "<tr>\n",
       "  <th>Covariance Type:</th>      <td>nonrobust</td>    <th>                     </th>     <td> </td>    \n",
       "</tr>\n",
       "</table>\n",
       "<table class=\"simpletable\">\n",
       "<tr>\n",
       "    <td></td>       <th>coef</th>     <th>std err</th>      <th>t</th>      <th>P>|t|</th>  <th>[0.025</th>    <th>0.975]</th>  \n",
       "</tr>\n",
       "<tr>\n",
       "  <th>const</th> <td>   45.8943</td> <td>    2.680</td> <td>   17.122</td> <td> 0.000</td> <td>   40.624</td> <td>   51.164</td>\n",
       "</tr>\n",
       "<tr>\n",
       "  <th>x1</th>    <td>   -0.5662</td> <td>    0.404</td> <td>   -1.401</td> <td> 0.162</td> <td>   -1.361</td> <td>    0.229</td>\n",
       "</tr>\n",
       "<tr>\n",
       "  <th>x2</th>    <td>    0.0114</td> <td>    0.010</td> <td>    1.194</td> <td> 0.233</td> <td>   -0.007</td> <td>    0.030</td>\n",
       "</tr>\n",
       "<tr>\n",
       "  <th>x3</th>    <td>   -0.0613</td> <td>    0.017</td> <td>   -3.636</td> <td> 0.000</td> <td>   -0.094</td> <td>   -0.028</td>\n",
       "</tr>\n",
       "<tr>\n",
       "  <th>x4</th>    <td>   -0.0048</td> <td>    0.001</td> <td>   -5.948</td> <td> 0.000</td> <td>   -0.006</td> <td>   -0.003</td>\n",
       "</tr>\n",
       "<tr>\n",
       "  <th>x5</th>    <td>   -0.0320</td> <td>    0.123</td> <td>   -0.259</td> <td> 0.795</td> <td>   -0.274</td> <td>    0.210</td>\n",
       "</tr>\n",
       "<tr>\n",
       "  <th>x6</th>    <td>   -1.1255</td> <td>    0.702</td> <td>   -1.604</td> <td> 0.109</td> <td>   -2.505</td> <td>    0.254</td>\n",
       "</tr>\n",
       "<tr>\n",
       "  <th>x7</th>    <td>    1.8070</td> <td>    0.700</td> <td>    2.582</td> <td> 0.010</td> <td>    0.431</td> <td>    3.183</td>\n",
       "</tr>\n",
       "</table>\n",
       "<table class=\"simpletable\">\n",
       "<tr>\n",
       "  <th>Omnibus:</th>       <td>34.295</td> <th>  Durbin-Watson:     </th> <td>   0.921</td>\n",
       "</tr>\n",
       "<tr>\n",
       "  <th>Prob(Omnibus):</th> <td> 0.000</td> <th>  Jarque-Bera (JB):  </th> <td>  47.569</td>\n",
       "</tr>\n",
       "<tr>\n",
       "  <th>Skew:</th>          <td> 0.635</td> <th>  Prob(JB):          </th> <td>4.68e-11</td>\n",
       "</tr>\n",
       "<tr>\n",
       "  <th>Kurtosis:</th>      <td> 4.140</td> <th>  Cond. No.          </th> <td>3.98e+04</td>\n",
       "</tr>\n",
       "</table><br/><br/>Warnings:<br/>[1] Standard Errors assume that the covariance matrix of the errors is correctly specified.<br/>[2] The condition number is large, 3.98e+04. This might indicate that there are<br/>strong multicollinearity or other numerical problems."
      ],
      "text/plain": [
       "<class 'statsmodels.iolib.summary.Summary'>\n",
       "\"\"\"\n",
       "                            OLS Regression Results                            \n",
       "==============================================================================\n",
       "Dep. Variable:                      y   R-squared:                       0.721\n",
       "Model:                            OLS   Adj. R-squared:                  0.716\n",
       "Method:                 Least Squares   F-statistic:                     141.7\n",
       "Date:                Wed, 25 Jul 2018   Prob (F-statistic):          2.78e-102\n",
       "Time:                        05:07:56   Log-Likelihood:                -1111.1\n",
       "No. Observations:                 392   AIC:                             2238.\n",
       "Df Residuals:                     384   BIC:                             2270.\n",
       "Df Model:                           7                                         \n",
       "Covariance Type:            nonrobust                                         \n",
       "==============================================================================\n",
       "                 coef    std err          t      P>|t|      [0.025      0.975]\n",
       "------------------------------------------------------------------------------\n",
       "const         45.8943      2.680     17.122      0.000      40.624      51.164\n",
       "x1            -0.5662      0.404     -1.401      0.162      -1.361       0.229\n",
       "x2             0.0114      0.010      1.194      0.233      -0.007       0.030\n",
       "x3            -0.0613      0.017     -3.636      0.000      -0.094      -0.028\n",
       "x4            -0.0048      0.001     -5.948      0.000      -0.006      -0.003\n",
       "x5            -0.0320      0.123     -0.259      0.795      -0.274       0.210\n",
       "x6            -1.1255      0.702     -1.604      0.109      -2.505       0.254\n",
       "x7             1.8070      0.700      2.582      0.010       0.431       3.183\n",
       "==============================================================================\n",
       "Omnibus:                       34.295   Durbin-Watson:                   0.921\n",
       "Prob(Omnibus):                  0.000   Jarque-Bera (JB):               47.569\n",
       "Skew:                           0.635   Prob(JB):                     4.68e-11\n",
       "Kurtosis:                       4.140   Cond. No.                     3.98e+04\n",
       "==============================================================================\n",
       "\n",
       "Warnings:\n",
       "[1] Standard Errors assume that the covariance matrix of the errors is correctly specified.\n",
       "[2] The condition number is large, 3.98e+04. This might indicate that there are\n",
       "strong multicollinearity or other numerical problems.\n",
       "\"\"\""
      ]
     },
     "execution_count": 26,
     "metadata": {},
     "output_type": "execute_result"
    }
   ],
   "source": [
    "X_opt=X[:,[0,1,2,3,4,5,7,8]]\n",
    "regressor_OLS=sfm.OLS(endog=y,exog=X_opt).fit()\n",
    "regressor_OLS.summary()"
   ]
  },
  {
   "cell_type": "code",
   "execution_count": 27,
   "metadata": {
    "scrolled": true
   },
   "outputs": [
    {
     "data": {
      "text/html": [
       "<table class=\"simpletable\">\n",
       "<caption>OLS Regression Results</caption>\n",
       "<tr>\n",
       "  <th>Dep. Variable:</th>            <td>y</td>        <th>  R-squared:         </th> <td>   0.720</td> \n",
       "</tr>\n",
       "<tr>\n",
       "  <th>Model:</th>                   <td>OLS</td>       <th>  Adj. R-squared:    </th> <td>   0.715</td> \n",
       "</tr>\n",
       "<tr>\n",
       "  <th>Method:</th>             <td>Least Squares</td>  <th>  F-statistic:       </th> <td>   164.8</td> \n",
       "</tr>\n",
       "<tr>\n",
       "  <th>Date:</th>             <td>Wed, 25 Jul 2018</td> <th>  Prob (F-statistic):</th> <td>4.20e-103</td>\n",
       "</tr>\n",
       "<tr>\n",
       "  <th>Time:</th>                 <td>05:07:58</td>     <th>  Log-Likelihood:    </th> <td> -1111.8</td> \n",
       "</tr>\n",
       "<tr>\n",
       "  <th>No. Observations:</th>      <td>   392</td>      <th>  AIC:               </th> <td>   2238.</td> \n",
       "</tr>\n",
       "<tr>\n",
       "  <th>Df Residuals:</th>          <td>   385</td>      <th>  BIC:               </th> <td>   2265.</td> \n",
       "</tr>\n",
       "<tr>\n",
       "  <th>Df Model:</th>              <td>     6</td>      <th>                     </th>     <td> </td>    \n",
       "</tr>\n",
       "<tr>\n",
       "  <th>Covariance Type:</th>      <td>nonrobust</td>    <th>                     </th>     <td> </td>    \n",
       "</tr>\n",
       "</table>\n",
       "<table class=\"simpletable\">\n",
       "<tr>\n",
       "    <td></td>       <th>coef</th>     <th>std err</th>      <th>t</th>      <th>P>|t|</th>  <th>[0.025</th>    <th>0.975]</th>  \n",
       "</tr>\n",
       "<tr>\n",
       "  <th>const</th> <td>   44.6093</td> <td>    2.456</td> <td>   18.163</td> <td> 0.000</td> <td>   39.780</td> <td>   49.438</td>\n",
       "</tr>\n",
       "<tr>\n",
       "  <th>x1</th>    <td>   -0.2515</td> <td>    0.307</td> <td>   -0.820</td> <td> 0.412</td> <td>   -0.854</td> <td>    0.351</td>\n",
       "</tr>\n",
       "<tr>\n",
       "  <th>x2</th>    <td>   -0.0548</td> <td>    0.016</td> <td>   -3.433</td> <td> 0.001</td> <td>   -0.086</td> <td>   -0.023</td>\n",
       "</tr>\n",
       "<tr>\n",
       "  <th>x3</th>    <td>   -0.0044</td> <td>    0.001</td> <td>   -5.956</td> <td> 0.000</td> <td>   -0.006</td> <td>   -0.003</td>\n",
       "</tr>\n",
       "<tr>\n",
       "  <th>x4</th>    <td>   -0.0454</td> <td>    0.123</td> <td>   -0.369</td> <td> 0.712</td> <td>   -0.287</td> <td>    0.196</td>\n",
       "</tr>\n",
       "<tr>\n",
       "  <th>x5</th>    <td>   -0.8492</td> <td>    0.663</td> <td>   -1.282</td> <td> 0.201</td> <td>   -2.152</td> <td>    0.454</td>\n",
       "</tr>\n",
       "<tr>\n",
       "  <th>x6</th>    <td>    1.8239</td> <td>    0.700</td> <td>    2.605</td> <td> 0.010</td> <td>    0.447</td> <td>    3.201</td>\n",
       "</tr>\n",
       "</table>\n",
       "<table class=\"simpletable\">\n",
       "<tr>\n",
       "  <th>Omnibus:</th>       <td>38.033</td> <th>  Durbin-Watson:     </th> <td>   0.921</td>\n",
       "</tr>\n",
       "<tr>\n",
       "  <th>Prob(Omnibus):</th> <td> 0.000</td> <th>  Jarque-Bera (JB):  </th> <td>  54.486</td>\n",
       "</tr>\n",
       "<tr>\n",
       "  <th>Skew:</th>          <td> 0.676</td> <th>  Prob(JB):          </th> <td>1.47e-12</td>\n",
       "</tr>\n",
       "<tr>\n",
       "  <th>Kurtosis:</th>      <td> 4.229</td> <th>  Cond. No.          </th> <td>3.63e+04</td>\n",
       "</tr>\n",
       "</table><br/><br/>Warnings:<br/>[1] Standard Errors assume that the covariance matrix of the errors is correctly specified.<br/>[2] The condition number is large, 3.63e+04. This might indicate that there are<br/>strong multicollinearity or other numerical problems."
      ],
      "text/plain": [
       "<class 'statsmodels.iolib.summary.Summary'>\n",
       "\"\"\"\n",
       "                            OLS Regression Results                            \n",
       "==============================================================================\n",
       "Dep. Variable:                      y   R-squared:                       0.720\n",
       "Model:                            OLS   Adj. R-squared:                  0.715\n",
       "Method:                 Least Squares   F-statistic:                     164.8\n",
       "Date:                Wed, 25 Jul 2018   Prob (F-statistic):          4.20e-103\n",
       "Time:                        05:07:58   Log-Likelihood:                -1111.8\n",
       "No. Observations:                 392   AIC:                             2238.\n",
       "Df Residuals:                     385   BIC:                             2265.\n",
       "Df Model:                           6                                         \n",
       "Covariance Type:            nonrobust                                         \n",
       "==============================================================================\n",
       "                 coef    std err          t      P>|t|      [0.025      0.975]\n",
       "------------------------------------------------------------------------------\n",
       "const         44.6093      2.456     18.163      0.000      39.780      49.438\n",
       "x1            -0.2515      0.307     -0.820      0.412      -0.854       0.351\n",
       "x2            -0.0548      0.016     -3.433      0.001      -0.086      -0.023\n",
       "x3            -0.0044      0.001     -5.956      0.000      -0.006      -0.003\n",
       "x4            -0.0454      0.123     -0.369      0.712      -0.287       0.196\n",
       "x5            -0.8492      0.663     -1.282      0.201      -2.152       0.454\n",
       "x6             1.8239      0.700      2.605      0.010       0.447       3.201\n",
       "==============================================================================\n",
       "Omnibus:                       38.033   Durbin-Watson:                   0.921\n",
       "Prob(Omnibus):                  0.000   Jarque-Bera (JB):               54.486\n",
       "Skew:                           0.676   Prob(JB):                     1.47e-12\n",
       "Kurtosis:                       4.229   Cond. No.                     3.63e+04\n",
       "==============================================================================\n",
       "\n",
       "Warnings:\n",
       "[1] Standard Errors assume that the covariance matrix of the errors is correctly specified.\n",
       "[2] The condition number is large, 3.63e+04. This might indicate that there are\n",
       "strong multicollinearity or other numerical problems.\n",
       "\"\"\""
      ]
     },
     "execution_count": 27,
     "metadata": {},
     "output_type": "execute_result"
    }
   ],
   "source": [
    "X_opt=X[:,[0,1,3,4,5,7,8]]\n",
    "regressor_OLS=sfm.OLS(endog=y,exog=X_opt).fit()\n",
    "regressor_OLS.summary()"
   ]
  },
  {
   "cell_type": "code",
   "execution_count": 28,
   "metadata": {},
   "outputs": [
    {
     "data": {
      "text/plain": [
       "array([[ 3.97803797e+01,  4.94381446e+01],\n",
       "       [-8.54277088e-01,  3.51240328e-01],\n",
       "       [-8.61362487e-02, -2.33989056e-02],\n",
       "       [-5.89534707e-03, -2.96906557e-03],\n",
       "       [-2.86828667e-01,  1.96093882e-01],\n",
       "       [-2.15202074e+00,  4.53596664e-01],\n",
       "       [ 4.47370746e-01,  3.20050281e+00]])"
      ]
     },
     "execution_count": 28,
     "metadata": {},
     "output_type": "execute_result"
    }
   ],
   "source": [
    "regressor_OLS.conf_int()"
   ]
  },
  {
   "cell_type": "code",
   "execution_count": null,
   "metadata": {},
   "outputs": [],
   "source": []
  }
 ],
 "metadata": {
  "kernelspec": {
   "display_name": "Python 3",
   "language": "python",
   "name": "python3"
  },
  "language_info": {
   "codemirror_mode": {
    "name": "ipython",
    "version": 3
   },
   "file_extension": ".py",
   "mimetype": "text/x-python",
   "name": "python",
   "nbconvert_exporter": "python",
   "pygments_lexer": "ipython3",
   "version": "3.6.5"
  }
 },
 "nbformat": 4,
 "nbformat_minor": 2
}
